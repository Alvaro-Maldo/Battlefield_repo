{
 "cells": [
  {
   "cell_type": "code",
   "execution_count": 9,
   "metadata": {},
   "outputs": [
    {
     "data": {
      "text/plain": [
       "array([[' ', ' ', ' ', ' ', ' ', ' ', ' ', ' ', ' ', ' ', '1'],\n",
       "       [' ', 'O', 'O', 'O', 'O', ' ', ' ', ' ', ' ', ' ', '2'],\n",
       "       [' ', ' ', ' ', ' ', ' ', ' ', ' ', ' ', ' ', ' ', '3'],\n",
       "       [' ', ' ', ' ', ' ', ' ', ' ', ' ', ' ', ' ', ' ', '4'],\n",
       "       [' ', ' ', ' ', ' ', ' ', ' ', ' ', ' ', ' ', ' ', '5'],\n",
       "       [' ', ' ', ' ', ' ', ' ', ' ', ' ', ' ', ' ', ' ', '6'],\n",
       "       [' ', ' ', ' ', ' ', ' ', ' ', ' ', ' ', ' ', ' ', '7'],\n",
       "       [' ', ' ', ' ', ' ', ' ', ' ', ' ', ' ', ' ', ' ', '8'],\n",
       "       [' ', ' ', ' ', ' ', ' ', ' ', ' ', ' ', ' ', ' ', '9'],\n",
       "       [' ', ' ', ' ', ' ', ' ', ' ', ' ', ' ', ' ', ' ', '10'],\n",
       "       ['1', '2', '3', '4', '5', '6', '7', '8', '9', '10', '']],\n",
       "      dtype='<U11')"
      ]
     },
     "execution_count": 9,
     "metadata": {},
     "output_type": "execute_result"
    }
   ],
   "source": [
    "import numpy as np\n",
    "import random \n",
    "\n",
    "u_1 = np.arange(1,122).reshape(11,-1)\n",
    "u_1 = np.where(u_1, \" \", u_1)\n",
    "u_1[-1:]=[1,2,3,4,5,6,7,8,9,10,0]\n",
    "u_1[::,-1:]=[[1],[2],[3],[4],[5],[6],[7],[8],[9],[10],['']]\n",
    "\n",
    "\n",
    "def barco4(u_1):\n",
    "    while True:\n",
    "        rand1=random.randint(0,9)\n",
    "        rand2=random.randint(0,9)\n",
    "\n",
    "        pos_1=[rand1,rand2]\n",
    "\n",
    "        if u_1[pos_1[0],pos_1[1]]==\"O\":\n",
    "            continue\n",
    "\n",
    "        arr= np.array([[-1,0],[0,-1],[0,1],[1,0]])\n",
    "\n",
    "        for i in arr: \n",
    "\n",
    "                pos_4=pos_1+3*i\n",
    "                pos_3=pos_1+2*i\n",
    "                pos_2=pos_1+i\n",
    "\n",
    "                if pos_4[0]<0 or pos_4[0]>9 or pos_4[1]<0 or pos_4[1]>9:\n",
    "                    continue\n",
    "\n",
    "                elif u_1[pos_4[0],pos_4[1]]==\"O\" or u_1[pos_3[0],pos_3[1]]==\"O\" or u_1[pos_2[0],pos_2[1]]==\"O\":\n",
    "                    continue\n",
    "\n",
    "                else:\n",
    "                    u_1[pos_1[0],pos_1[1]]=\"O\"\n",
    "                    u_1[pos_4[0],pos_4[1]]=\"O\"\n",
    "                    u_1[pos_3[0],pos_3[1]]=\"O\"\n",
    "                    u_1[pos_2[0],pos_2[1]]=\"O\"\n",
    "\n",
    "                    return u_1\n",
    "\n",
    "\n",
    "barco4(u_1)"
   ]
  }
 ],
 "metadata": {
  "kernelspec": {
   "display_name": "Python 3.7.4 64-bit",
   "language": "python",
   "name": "python3"
  },
  "language_info": {
   "codemirror_mode": {
    "name": "ipython",
    "version": 3
   },
   "file_extension": ".py",
   "mimetype": "text/x-python",
   "name": "python",
   "nbconvert_exporter": "python",
   "pygments_lexer": "ipython3",
   "version": "3.7.4"
  },
  "orig_nbformat": 4,
  "vscode": {
   "interpreter": {
    "hash": "98f313b375bd142157bd85247f9cae0a692e725b9cc4cd8be55ca840b47a019b"
   }
  }
 },
 "nbformat": 4,
 "nbformat_minor": 2
}
